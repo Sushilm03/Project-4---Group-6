{
  "nbformat": 4,
  "nbformat_minor": 0,
  "metadata": {
    "colab": {
      "provenance": []
    },
    "kernelspec": {
      "name": "python3",
      "display_name": "Python 3"
    },
    "language_info": {
      "name": "python"
    }
  },
  "cells": [
    {
      "cell_type": "code",
      "execution_count": 2,
      "metadata": {
        "colab": {
          "base_uri": "https://localhost:8080/"
        },
        "id": "moQjx8PCJ87_",
        "outputId": "825853fa-5c5b-4a0a-cc53-37a26227ba90"
      },
      "outputs": [
        {
          "output_type": "stream",
          "name": "stdout",
          "text": [
            "Trial 10 Complete [00h 01m 23s]\n",
            "val_accuracy: 0.734499990940094\n",
            "\n",
            "Best val_accuracy So Far: 0.7409999966621399\n",
            "Total elapsed time: 00h 08m 48s\n",
            "438/438 [==============================] - 1s 2ms/step\n",
            "Test Accuracy with Hyperparameter Tuning: 0.7410\n"
          ]
        }
      ],
      "source": [
        "!pip install keras-tuner\n",
        "import numpy as np\n",
        "import pandas as pd\n",
        "from sklearn.model_selection import train_test_split\n",
        "from sklearn.preprocessing import StandardScaler\n",
        "from sklearn.metrics import accuracy_score\n",
        "\n",
        "import tensorflow as tf\n",
        "from tensorflow import keras\n",
        "from tensorflow.keras import layers\n",
        "from kerastuner.tuners import RandomSearch\n",
        "\n",
        "# Load your dataset\n",
        "data = pd.read_csv('/content/cardio_train.csv', delimiter=';')  # Update the path\n",
        "\n",
        "# Separate features (X) and target (y)\n",
        "target_column_name = 'cardio'  # Replace with the actual column name\n",
        "X = data.drop(columns=[target_column_name])\n",
        "y = data[target_column_name]\n",
        "\n",
        "# Split the data into training and testing sets\n",
        "X_train, X_test, y_train, y_test = train_test_split(X, y, test_size=0.2, random_state=42)\n",
        "\n",
        "# Standardize features\n",
        "scaler = StandardScaler()\n",
        "X_train_scaled = scaler.fit_transform(X_train)\n",
        "X_test_scaled = scaler.transform(X_test)\n",
        "\n",
        "# Define the hyperparameter tuning space\n",
        "def build_model(hp):\n",
        "    model = keras.Sequential()\n",
        "    model.add(layers.Input(shape=(X_train_scaled.shape[1],)))\n",
        "\n",
        "    # Hyperparameter space for number of hidden layers\n",
        "    for i in range(hp.Int('num_layers', 1, 3)):\n",
        "        model.add(layers.Dense(units=hp.Int('units_' + str(i), min_value=32, max_value=256, step=32), activation='relu'))\n",
        "\n",
        "    model.add(layers.Dense(1, activation='sigmoid'))\n",
        "\n",
        "    # Hyperparameter space for learning rate\n",
        "    hp_learning_rate = hp.Choice('learning_rate', values=[1e-2, 1e-3, 1e-4])\n",
        "\n",
        "    model.compile(optimizer=keras.optimizers.Adam(learning_rate=hp_learning_rate),\n",
        "                  loss='binary_crossentropy',\n",
        "                  metrics=['accuracy'])\n",
        "\n",
        "    return model\n",
        "\n",
        "# Initialize the RandomSearch tuner\n",
        "tuner = RandomSearch(build_model,\n",
        "                     objective='val_accuracy',\n",
        "                     max_trials=10,\n",
        "                     directory='tuner_results',\n",
        "                     project_name='cardio_tuning')\n",
        "\n",
        "# Search for the best hyperparameters\n",
        "tuner.search(X_train_scaled, y_train, epochs=10, validation_data=(X_test_scaled, y_test))\n",
        "\n",
        "# Get the best model\n",
        "best_model = tuner.get_best_models(1)[0]\n",
        "\n",
        "# Evaluate the best model on the test data\n",
        "y_pred = best_model.predict(X_test_scaled)\n",
        "y_pred_classes = (y_pred > 0.5).astype(int)\n",
        "accuracy = accuracy_score(y_test, y_pred_classes)\n",
        "print(f'Test Accuracy with Hyperparameter Tuning: {accuracy:.4f}')"
      ]
    }
  ]
}